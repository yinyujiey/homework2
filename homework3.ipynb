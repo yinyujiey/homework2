{
 "cells": [
  {
   "cell_type": "code",
   "execution_count": 2,
   "metadata": {},
   "outputs": [
    {
     "name": "stdout",
     "output_type": "stream",
     "text": [
      "False\n"
     ]
    }
   ],
   "source": [
    "import math\n",
    "\n",
    "def is_prime(n):\n",
    "    if n <= 1:\n",
    "        return False\n",
    "    if n == 2:\n",
    "        return True\n",
    "    if n % 2 == 0:\n",
    "        return False\n",
    "    for i in range(3, int(math.sqrt(n)) + 1, 2):\n",
    "        if n % i == 0:\n",
    "            return False\n",
    "    return True\n",
    "\n",
    "x=int(input())\n",
    "print(is_prime(x))"
   ]
  },
  {
   "cell_type": "code",
   "execution_count": 8,
   "metadata": {},
   "outputs": [
    {
     "name": "stdout",
     "output_type": "stream",
     "text": [
      "Sorted array is: [5, 6, 11, 13, 18]\n"
     ]
    }
   ],
   "source": [
    "def insertion_sort(arr):\n",
    "    for i in range(1,len(arr)):\n",
    "        key = arr[i]\n",
    "        j=i-1\n",
    "        while j>=0 and key < arr[j] :\n",
    "            arr[j+1] = arr[j]\n",
    "            j-=1\n",
    "        arr[j+1] = key\n",
    "    return arr\n",
    "\n",
    "arr = [18, 11, 13, 5, 6]\n",
    "sorted_arr = insertion_sort(arr)\n",
    "print(\"Sorted array is:\", sorted_arr)"
   ]
  },
  {
   "cell_type": "code",
   "execution_count": 13,
   "metadata": {},
   "outputs": [
    {
     "name": "stdout",
     "output_type": "stream",
     "text": [
      "[1, 22, 43, 65, 96]\n"
     ]
    }
   ],
   "source": [
    "def selection_sort(arr):\n",
    "    n = len(arr)\n",
    "    for i in range(n):\n",
    "        min_index =i\n",
    "        for j in range(i+1,n):\n",
    "            if arr[j] < arr[min_index]:\n",
    "                min_index = j\n",
    "        arr[i],arr[min_index] = arr[min_index], arr[i]\n",
    "    return arr\n",
    "\n",
    "arr = [43,65,22,1,96]\n",
    "sorted_arr = selection_sort(arr)\n",
    "print(sorted_arr)"
   ]
  },
  {
   "cell_type": "code",
   "execution_count": 14,
   "metadata": {},
   "outputs": [
    {
     "name": "stdout",
     "output_type": "stream",
     "text": [
      "Sorted array is: [1, 5, 7, 8, 9, 10]\n"
     ]
    }
   ],
   "source": [
    "def quick_sort(arr):\n",
    "    def partition(low, high):\n",
    "        pivot = arr[high]\n",
    "        i = low - 1\n",
    "        for j in range(low, high):\n",
    "            if arr[j] <= pivot:\n",
    "                i += 1\n",
    "                arr[i], arr[j] = arr[j], arr[i]\n",
    "        arr[i + 1], arr[high] = arr[high], arr[i + 1]\n",
    "        return i + 1\n",
    "\n",
    "    def quick_sort_recursive(low, high):\n",
    "        if low < high:\n",
    "            pi = partition(low, high)\n",
    "            quick_sort_recursive(low, pi - 1)\n",
    "            quick_sort_recursive(pi + 1, high)\n",
    "\n",
    "    quick_sort_recursive(0, len(arr) - 1)\n",
    "    return arr\n",
    "\n",
    "arr = [10, 7, 8, 9, 1, 5]\n",
    "sorted_arr = quick_sort(arr)\n",
    "print(\"Sorted array is:\", sorted_arr)"
   ]
  },
  {
   "cell_type": "code",
   "execution_count": 16,
   "metadata": {},
   "outputs": [
    {
     "name": "stdout",
     "output_type": "stream",
     "text": [
      "Generated array of length 100: [23, 70, 15, 63, 29, 46, 90, 77, 97, 19]... (100 elements)\n",
      "Selection sort took 0.000000 seconds\n",
      "Merge sort took 0.001057 seconds\n",
      "Quick sort took 0.000000 seconds\n",
      "\n",
      "Generated array of length 1000: [782, 160, 473, 338, 609, 99, 592, 46, 489, 170]... (1000 elements)\n",
      "Selection sort took 0.050405 seconds\n",
      "Merge sort took 0.004654 seconds\n",
      "Quick sort took 0.001172 seconds\n",
      "\n",
      "Generated array of length 10000: [5038, 1537, 2034, 5697, 3902, 6938, 2732, 3107, 625, 8534]... (10000 elements)\n",
      "Selection sort took 3.300474 seconds\n",
      "Merge sort took 0.036072 seconds\n",
      "Quick sort took 0.019704 seconds\n",
      "\n"
     ]
    }
   ],
   "source": [
    "import random\n",
    "import time\n",
    "def merge_sort(arr):\n",
    "    if len(arr) > 1:\n",
    "        mid = len(arr) // 2\n",
    "        L = arr[:mid]\n",
    "        R = arr[mid:]\n",
    "\n",
    "        merge_sort(L)\n",
    "        merge_sort(R)\n",
    "\n",
    "        i = j = k = 0\n",
    "        while i < len(L) and j < len(R):\n",
    "            if L[i] < R[j]:\n",
    "                arr[k] = L[i]\n",
    "                i += 1\n",
    "            else:\n",
    "                arr[k] = R[j]\n",
    "                j += 1\n",
    "            k += 1\n",
    "\n",
    "        while i < len(L):\n",
    "            arr[k] = L[i]\n",
    "            i += 1\n",
    "            k += 1\n",
    "\n",
    "        while j < len(R):\n",
    "            arr[k] = R[j]\n",
    "            j += 1\n",
    "            k += 1\n",
    "    return arr\n",
    "def generate_random_array(n):\n",
    "    return [random.randint(0, n) for _ in range(n)]\n",
    "\n",
    "def test_sort_algorithms(n):\n",
    "    arr = generate_random_array(n)\n",
    "    print(f\"Generated array of length {n}: {arr[:10]}... ({n} elements)\")\n",
    "\n",
    "    start_time = time.time()\n",
    "    sorted_arr = selection_sort(arr.copy())\n",
    "    selection_time = time.time() - start_time\n",
    "    print(f\"Selection sort took {selection_time:.6f} seconds\")\n",
    "\n",
    "    start_time = time.time()\n",
    "    sorted_arr = merge_sort(arr.copy())\n",
    "    merge_time = time.time() - start_time\n",
    "    print(f\"Merge sort took {merge_time:.6f} seconds\")\n",
    "\n",
    "    start_time = time.time()\n",
    "    sorted_arr = quick_sort(arr.copy())\n",
    "    quick_time = time.time() - start_time\n",
    "    print(f\"Quick sort took {quick_time:.6f} seconds\\n\")\n",
    "    \n",
    "test_sort_algorithms(100)\n",
    "test_sort_algorithms(1000)\n",
    "test_sort_algorithms(10000)"
   ]
  },
  {
   "cell_type": "code",
   "execution_count": 17,
   "metadata": {},
   "outputs": [
    {
     "name": "stdout",
     "output_type": "stream",
     "text": [
      "2024-10-15 15:24:38.682720\n"
     ]
    }
   ],
   "source": [
    "from datetime import datetime\n",
    "now = datetime.now()\n",
    "print(now)\n"
   ]
  },
  {
   "cell_type": "code",
   "execution_count": 24,
   "metadata": {},
   "outputs": [
    {
     "name": "stdout",
     "output_type": "stream",
     "text": [
      "chinese的平均成绩是：82.60\n",
      "math的平均成绩是：81.00\n",
      "english的平均成绩是：81.80\n"
     ]
    },
    {
     "name": "stderr",
     "output_type": "stream",
     "text": [
      "<>:11: SyntaxWarning: invalid escape sequence '\\s'\n",
      "<>:11: SyntaxWarning: invalid escape sequence '\\s'\n",
      "C:\\Users\\殷瑜杰\\AppData\\Local\\Temp\\ipykernel_3540\\2807416362.py:11: SyntaxWarning: invalid escape sequence '\\s'\n",
      "  with open('C:\\stuGrade.csv', mode='r', encoding='utf-8') as file:\n"
     ]
    }
   ],
   "source": [
    "import csv\n",
    "\n",
    "# 初始化科目列表\n",
    "subjects = [\"chinese\", \"math\", \"english\"]\n",
    "\n",
    "# 初始化总成绩和计数器\n",
    "total_scores = {subject: 0 for subject in subjects}\n",
    "count = 0\n",
    "\n",
    "# 读取CSV文件\n",
    "with open('C:\\stuGrade.csv', mode='r', encoding='utf-8') as file:\n",
    "    reader = csv.DictReader(file)\n",
    "    for row in reader:\n",
    "        count += 1\n",
    "        for subject in subjects:\n",
    "            total_scores[subject] += int(row[subject])\n",
    "\n",
    "# 计算平均成绩\n",
    "average_scores = {subject: total_scores[subject] / count for subject in subjects}\n",
    "\n",
    "# 打印平均成绩\n",
    "for subject, average in average_scores.items():\n",
    "    print(f\"{subject}的平均成绩是：{average:.2f}\")"
   ]
  },
  {
   "cell_type": "code",
   "execution_count": 1,
   "metadata": {},
   "outputs": [
    {
     "name": "stderr",
     "output_type": "stream",
     "text": [
      "<>:12: SyntaxWarning: invalid escape sequence '\\s'\n",
      "<>:12: SyntaxWarning: invalid escape sequence '\\s'\n",
      "C:\\Users\\殷瑜杰\\AppData\\Local\\Temp\\ipykernel_3068\\1983000926.py:12: SyntaxWarning: invalid escape sequence '\\s'\n",
      "  with open('C:\\stuGrade.csv', 'r', encoding='utf-8') as file:\n"
     ]
    },
    {
     "name": "stdout",
     "output_type": "stream",
     "text": [
      "文件已成功写入。\n"
     ]
    }
   ],
   "source": [
    "import csv\n",
    "from datetime import datetime\n",
    "import time\n",
    "\n",
    "# 初始化变量来存储总成绩和学生数量\n",
    "total_chinese = 0\n",
    "total_math = 0\n",
    "total_english = 0\n",
    "student_count = 0\n",
    "\n",
    "# 打开CSV文件\n",
    "with open('C:\\stuGrade.csv', 'r', encoding='utf-8') as file:\n",
    "    # 创建CSV阅读器\n",
    "    reader = csv.reader(file)\n",
    "    # 跳过标题行\n",
    "    next(reader)\n",
    "    # 遍历每一行数据\n",
    "    for row in reader:\n",
    "        # 累加各科成绩\n",
    "        total_chinese += int(row[1])\n",
    "        total_math += int(row[2])\n",
    "        total_english += int(row[3])\n",
    "        # 增加学生数量\n",
    "        student_count += 1\n",
    "\n",
    "# 计算平均成绩\n",
    "average_chinese = round(total_chinese / student_count, 2)\n",
    "average_math = round(total_math / student_count, 2)\n",
    "average_english = round(total_english / student_count, 2)\n",
    "\n",
    "# 写入my.txt文件\n",
    "with open('my.txt', 'w', encoding='utf-8') as file:\n",
    "    # 写入学号和姓名\n",
    "    file.write('学号:102355, 姓名:王道泽\\n')\n",
    "    # 写入任意一门课程的平均成绩，这里以语文为例\n",
    "    file.write(f'{average_chinese:.2f}, {average_math:.2f}, {average_english:.2f}\\n')\n",
    "    # 写入当前系统时间\n",
    "    current_time = datetime.now().strftime('%Y-%m-%d %H:%M:%S')\n",
    "    file.write(current_time + '\\n')\n",
    "    # 等待两秒\n",
    "    time.sleep(2)\n",
    "    # 写入两秒后的系统时间\n",
    "    new_time = datetime.now().strftime('%Y-%m-%d %H:%M:%S')\n",
    "    file.write(new_time + '\\n')\n",
    "\n",
    "print(\"文件已成功写入。\")"
   ]
  }
 ],
 "metadata": {
  "kernelspec": {
   "display_name": "Python 3",
   "language": "python",
   "name": "python3"
  },
  "language_info": {
   "codemirror_mode": {
    "name": "ipython",
    "version": 3
   },
   "file_extension": ".py",
   "mimetype": "text/x-python",
   "name": "python",
   "nbconvert_exporter": "python",
   "pygments_lexer": "ipython3",
   "version": "3.12.2"
  }
 },
 "nbformat": 4,
 "nbformat_minor": 2
}
