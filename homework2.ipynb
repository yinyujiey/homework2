{
 "cells": [
  {
   "cell_type": "code",
   "execution_count": 1,
   "metadata": {},
   "outputs": [
    {
     "name": "stdout",
     "output_type": "stream",
     "text": [
      "1\n"
     ]
    }
   ],
   "source": [
    "def gcd(a, b):\n",
    "    while b:\n",
    "        a, b = b, a % b\n",
    "    return a\n",
    "x=int(input())\n",
    "y=int(input())\n",
    "a=0\n",
    "if x<y :\n",
    "    a=x\n",
    "    x=y\n",
    "    y=a\n",
    "ans= gcd(x,y)\n",
    "print(ans)"
   ]
  },
  {
   "cell_type": "code",
   "execution_count": 1,
   "metadata": {},
   "outputs": [
    {
     "name": "stdout",
     "output_type": "stream",
     "text": [
      "不合格\n"
     ]
    }
   ],
   "source": [
    "grade=int(input())\n",
    "if grade>=90 :\n",
    "    print(\"优秀\")\n",
    "if grade<90 & grade>=75 :\n",
    "    print(\"良好\")\n",
    "if grade<75 & grade>=60 :\n",
    "    print(\"合格\")\n",
    "else :\n",
    "    print(\"不合格\")\n"
   ]
  },
  {
   "cell_type": "code",
   "execution_count": 5,
   "metadata": {},
   "outputs": [
    {
     "name": "stdout",
     "output_type": "stream",
     "text": [
      "Binary representation: 1111.1000011001100110011001100110011001100110011001101\n"
     ]
    }
   ],
   "source": [
    "def bin(decimal):\n",
    "    # 处理整数部分\n",
    "    integer_part = int(decimal)\n",
    "    fractional_part = decimal - integer_part\n",
    "    binary_integer = ''\n",
    "    if integer_part == 0:\n",
    "        binary_integer = '0'\n",
    "    else:\n",
    "        while integer_part > 0:\n",
    "            remainder = integer_part % 2\n",
    "            binary_integer = str(remainder) + binary_integer\n",
    "            integer_part = integer_part // 2\n",
    "\n",
    "    # 处理小数部分\n",
    "    binary_fractional = ''\n",
    "    if fractional_part > 0:\n",
    "        while fractional_part > 0:\n",
    "            fractional_part *= 2\n",
    "            bit = int(fractional_part)\n",
    "            binary_fractional += str(bit)\n",
    "            fractional_part -= bit\n",
    "\n",
    "    # 组合整数部分和小数部分\n",
    "    if binary_fractional:  # 如果有小数部分\n",
    "        return binary_integer + '.' + binary_fractional\n",
    "    else:\n",
    "        return binary_integer\n",
    "\n",
    "# 获取用户输入\n",
    "x = float(input(\"Enter a decimal number: \"))\n",
    "print(\"Binary representation:\", bin(x))"
   ]
  },
  {
   "cell_type": "code",
   "execution_count": 6,
   "metadata": {},
   "outputs": [
    {
     "name": "stdout",
     "output_type": "stream",
     "text": [
      "16.042988348372308\n"
     ]
    }
   ],
   "source": [
    "import random\n",
    "\n",
    "random_float = random.uniform(10,20)\n",
    "print(random_float)"
   ]
  },
  {
   "cell_type": "code",
   "execution_count": 13,
   "metadata": {},
   "outputs": [
    {
     "name": "stdout",
     "output_type": "stream",
     "text": [
      "否\n"
     ]
    }
   ],
   "source": [
    "x=int(input())\n",
    "numbers=[0]*len(str(x))\n",
    "i=0\n",
    "a=0\n",
    "while x>0 :\n",
    "    numbers[i]=x%10\n",
    "    x//=10\n",
    "    i+=1\n",
    "for j in range(len(numbers)//2):\n",
    "    if(numbers[j]!=numbers[len(numbers)-j-1]):\n",
    "        a=1\n",
    "if a==0:\n",
    "    print(\"是\")\n",
    "else :\n",
    "    print(\"否\")\n"
   ]
  },
  {
   "cell_type": "code",
   "execution_count": 30,
   "metadata": {},
   "outputs": [
    {
     "name": "stdout",
     "output_type": "stream",
     "text": [
      "[1, 1, 2, 3, 5, 8]\n"
     ]
    }
   ],
   "source": [
    "def fab(n):\n",
    "    if n==0:\n",
    "        return 0\n",
    "    if n==1:\n",
    "        return 1\n",
    "    else:\n",
    "        return fab(n-1)+fab(n-2)\n",
    "n=int(input())\n",
    "numbers=[0]*n\n",
    "for i in range(0,n):\n",
    "    numbers[i]=fab(i+1)\n",
    "print(numbers)"
   ]
  },
  {
   "cell_type": "code",
   "execution_count": 32,
   "metadata": {},
   "outputs": [
    {
     "name": "stdout",
     "output_type": "stream",
     "text": [
      "4\n"
     ]
    }
   ],
   "source": [
    "numbers=[]\n",
    "n=int(input())\n",
    "for i in range(n):\n",
    "    num = int(input())\n",
    "    numbers.append(num)\n",
    "if(n<2):\n",
    "    print(\"-1\")\n",
    "else:\n",
    "    sorted_numbers = sorted(set(numbers),key=lambda x: -x)\n",
    "    print(sorted_numbers[1])"
   ]
  },
  {
   "cell_type": "code",
   "execution_count": 33,
   "metadata": {},
   "outputs": [
    {
     "name": "stdout",
     "output_type": "stream",
     "text": [
      "True\n"
     ]
    }
   ],
   "source": [
    "import re\n",
    "\n",
    "def validate_id_card(id_card):\n",
    "    pattern = re.compile(r'^[1-9]\\d{5}(19|20)\\d{2}(0[1-9]|1[0-2])(0[1-9]|[1-2]\\d|3[0-1])\\d{3}(\\d|X|x)$')\n",
    "    if pattern.match(id_card):\n",
    "        return True\n",
    "    else:\n",
    "        return False\n",
    "id_cards =input()\n",
    "print(validate_id_card(id_cards))"
   ]
  }
 ],
 "metadata": {
  "kernelspec": {
   "display_name": "Python 3",
   "language": "python",
   "name": "python3"
  },
  "language_info": {
   "codemirror_mode": {
    "name": "ipython",
    "version": 3
   },
   "file_extension": ".py",
   "mimetype": "text/x-python",
   "name": "python",
   "nbconvert_exporter": "python",
   "pygments_lexer": "ipython3",
   "version": "3.12.2"
  }
 },
 "nbformat": 4,
 "nbformat_minor": 2
}
